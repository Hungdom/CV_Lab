import numpy as np
import cv2 as cv

face_cascade = cv.CascadeClassifier('haarcascade_frontalface_default.xml')

img = cv.imread( 'president.jpg')
#Convert from RGB to GRAY
gray = cv.cvtColor(img, cv.COLOR_RGB2GRAY)

faces = face_cascade.detectMultiScale(gray, 1.1, 5)
for (x,y,w,h) in faces:
    cv.rectangle(img, (x,y), (x+w,y+h), (255,0,0), 2)
    
#Show image jupyter notebook
from matplotlib import pyplot as plt

#cv2 read based on BGR, convert to RGB for show by pyplot
im = cv.cvtColor(img, cv.COLOR_BGR2RGB)

plt.rcParams["figure.figsize"] = (15, 15)
plt.imshow(im)
plt.show()
